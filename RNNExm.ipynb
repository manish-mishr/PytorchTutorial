{
 "cells": [
  {
   "cell_type": "code",
   "execution_count": 1,
   "metadata": {
    "collapsed": true
   },
   "outputs": [],
   "source": [
    "import torch \n",
    "import torch.nn as nn\n",
    "import torchvision.datasets as dsets\n",
    "import torchvision.transforms as transforms\n",
    "from torch.autograd import Variable"
   ]
  },
  {
   "cell_type": "code",
   "execution_count": 2,
   "metadata": {
    "collapsed": true
   },
   "outputs": [],
   "source": [
    "sequence_length = 28\n",
    "input_size = 28\n",
    "hidden_size = 128\n",
    "num_layers = 2\n",
    "num_classes = 10\n",
    "batch_size = 100\n",
    "num_epochs = 5\n",
    "learning_rate = 0.01"
   ]
  },
  {
   "cell_type": "code",
   "execution_count": 3,
   "metadata": {
    "collapsed": false
   },
   "outputs": [],
   "source": [
    "train_dataset = dsets.MNIST(root='./data/',\n",
    "                            train=True, \n",
    "                            transform=transforms.ToTensor(),\n",
    "                            download=True)\n",
    "\n",
    "test_dataset = dsets.MNIST(root='./data/',\n",
    "                           train=False, \n",
    "                           transform=transforms.ToTensor())\n",
    "\n",
    "# Data Loader (Input Pipeline)\n",
    "train_loader = torch.utils.data.DataLoader(dataset=train_dataset,\n",
    "                                           batch_size=batch_size, \n",
    "                                           shuffle=True)\n",
    "\n",
    "test_loader = torch.utils.data.DataLoader(dataset=test_dataset,\n",
    "                                          batch_size=batch_size, \n",
    "                                          shuffle=False)"
   ]
  },
  {
   "cell_type": "code",
   "execution_count": 4,
   "metadata": {
    "collapsed": true
   },
   "outputs": [],
   "source": [
    "class RNN(nn.Module):\n",
    "    def __init__(self, input_size, hidden_size, num_layers, num_classes):\n",
    "        super(RNN, self).__init__()\n",
    "        self.hidden_size = hidden_size\n",
    "        self.num_layers = num_layers\n",
    "        self.lstm = nn.LSTM(input_size, hidden_size, num_layers, batch_first=True)\n",
    "        self.fc = nn.Linear(hidden_size, num_classes)\n",
    "    \n",
    "    def forward(self, x):\n",
    "        # Set initial states \n",
    "        h0 = Variable(torch.zeros(self.num_layers, x.size(0), self.hidden_size)) \n",
    "        c0 = Variable(torch.zeros(self.num_layers, x.size(0), self.hidden_size))\n",
    "        \n",
    "        # Forward propagate RNN\n",
    "        out, _ = self.lstm(x, (h0, c0))  \n",
    "        \n",
    "        # Decode hidden state of last time step\n",
    "        out = self.fc(out[:, -1, :])  \n",
    "        return out\n",
    "    "
   ]
  },
  {
   "cell_type": "code",
   "execution_count": 5,
   "metadata": {
    "collapsed": true
   },
   "outputs": [],
   "source": [
    "rnn = RNN(input_size, hidden_size,num_layers,num_classes)\n",
    "criterion = nn.CrossEntropyLoss()\n",
    "optimizer = torch.optim.Adam(rnn.parameters(), lr=learning_rate)"
   ]
  },
  {
   "cell_type": "code",
   "execution_count": 6,
   "metadata": {
    "collapsed": false
   },
   "outputs": [
    {
     "name": "stdout",
     "output_type": "stream",
     "text": [
      "Epoch [1/5], Step [100/600], Loss: 0.8334\n",
      "Epoch [1/5], Step [200/600], Loss: 0.2995\n",
      "Epoch [1/5], Step [300/600], Loss: 0.2101\n",
      "Epoch [1/5], Step [400/600], Loss: 0.2151\n",
      "Epoch [1/5], Step [500/600], Loss: 0.2279\n",
      "Epoch [1/5], Step [600/600], Loss: 0.2093\n",
      "Epoch [2/5], Step [100/600], Loss: 0.0433\n",
      "Epoch [2/5], Step [200/600], Loss: 0.0961\n",
      "Epoch [2/5], Step [300/600], Loss: 0.1230\n",
      "Epoch [2/5], Step [400/600], Loss: 0.0958\n",
      "Epoch [2/5], Step [500/600], Loss: 0.1155\n",
      "Epoch [2/5], Step [600/600], Loss: 0.1161\n",
      "Epoch [3/5], Step [100/600], Loss: 0.1399\n",
      "Epoch [3/5], Step [200/600], Loss: 0.0860\n",
      "Epoch [3/5], Step [300/600], Loss: 0.0520\n",
      "Epoch [3/5], Step [400/600], Loss: 0.1304\n",
      "Epoch [3/5], Step [500/600], Loss: 0.0120\n",
      "Epoch [3/5], Step [600/600], Loss: 0.0641\n",
      "Epoch [4/5], Step [100/600], Loss: 0.0413\n",
      "Epoch [4/5], Step [200/600], Loss: 0.0839\n",
      "Epoch [4/5], Step [300/600], Loss: 0.0178\n",
      "Epoch [4/5], Step [400/600], Loss: 0.0661\n",
      "Epoch [4/5], Step [500/600], Loss: 0.0765\n",
      "Epoch [4/5], Step [600/600], Loss: 0.0282\n",
      "Epoch [5/5], Step [100/600], Loss: 0.0159\n",
      "Epoch [5/5], Step [200/600], Loss: 0.0657\n",
      "Epoch [5/5], Step [300/600], Loss: 0.0652\n",
      "Epoch [5/5], Step [400/600], Loss: 0.0320\n",
      "Epoch [5/5], Step [500/600], Loss: 0.0100\n",
      "Epoch [5/5], Step [600/600], Loss: 0.0414\n"
     ]
    }
   ],
   "source": [
    "for epoch in range(num_epochs):\n",
    "    for i, (images, labels) in enumerate(train_loader):\n",
    "        images = Variable(images.view(-1, sequence_length, input_size))\n",
    "        labels = Variable(labels)\n",
    "        \n",
    "        # Forward + Backward + Optimize\n",
    "        optimizer.zero_grad()\n",
    "        outputs = rnn(images)\n",
    "        loss = criterion(outputs, labels)\n",
    "        loss.backward()\n",
    "        optimizer.step()\n",
    "        \n",
    "        if (i+1) % 100 == 0:\n",
    "            print ('Epoch [%d/%d], Step [%d/%d], Loss: %.4f' \n",
    "                   %(epoch+1, num_epochs, i+1, len(train_dataset)//batch_size, loss.data[0]))\n"
   ]
  },
  {
   "cell_type": "code",
   "execution_count": 7,
   "metadata": {
    "collapsed": false
   },
   "outputs": [
    {
     "name": "stdout",
     "output_type": "stream",
     "text": [
      "Test Accuracy of the model on the 10000 test images: 98 %\n"
     ]
    }
   ],
   "source": [
    "correct = 0\n",
    "total = 0\n",
    "for images, labels in test_loader:\n",
    "    images = Variable(images.view(-1, sequence_length, input_size))\n",
    "    outputs = rnn(images)\n",
    "    _, predicted = torch.max(outputs.data, 1)\n",
    "    total += labels.size(0)\n",
    "    correct += (predicted == labels).sum()\n",
    "\n",
    "print('Test Accuracy of the model on the 10000 test images: %d %%' % (100 * correct / total)) \n",
    "\n",
    "# Save the Model\n",
    "torch.save(rnn.state_dict(), 'rnn.pkl')"
   ]
  },
  {
   "cell_type": "code",
   "execution_count": 8,
   "metadata": {
    "collapsed": true
   },
   "outputs": [],
   "source": [
    "class BiRNN(nn.Module):\n",
    "    def __init__(self, input_size, hidden_size, num_layers, num_classes):\n",
    "        super(BiRNN, self).__init__()\n",
    "        self.hidden_size = hidden_size\n",
    "        self.num_layers = num_layers\n",
    "        self.lstm = nn.LSTM(input_size, hidden_size, num_layers, \n",
    "                            batch_first=True, bidirectional=True)\n",
    "        self.fc = nn.Linear(hidden_size*2, num_classes)  # 2 for bidirection \n",
    "    \n",
    "    def forward(self, x):\n",
    "        # Set initial states\n",
    "        h0 = Variable(torch.zeros(self.num_layers*2, x.size(0), self.hidden_size)) # 2 for bidirection \n",
    "        c0 = Variable(torch.zeros(self.num_layers*2, x.size(0), self.hidden_size))\n",
    "        \n",
    "        # Forward propagate RNN\n",
    "        out, _ = self.lstm(x, (h0, c0))\n",
    "        \n",
    "        # Decode hidden state of last time step\n",
    "        out = self.fc(out[:, -1, :])\n",
    "        return out\n"
   ]
  },
  {
   "cell_type": "code",
   "execution_count": 9,
   "metadata": {
    "collapsed": true
   },
   "outputs": [],
   "source": [
    "rnn = BiRNN(input_size, hidden_size, num_layers, num_classes)\n",
    "criterion = nn.CrossEntropyLoss()\n",
    "optimizer = torch.optim.Adam(rnn.parameters(), lr=learning_rate)"
   ]
  },
  {
   "cell_type": "code",
   "execution_count": 10,
   "metadata": {
    "collapsed": false
   },
   "outputs": [
    {
     "name": "stdout",
     "output_type": "stream",
     "text": [
      "Epoch [1/5], Step [100/600], Loss: 1.0872\n",
      "Epoch [1/5], Step [200/600], Loss: 0.4915\n",
      "Epoch [1/5], Step [300/600], Loss: 0.2502\n",
      "Epoch [1/5], Step [400/600], Loss: 0.3389\n",
      "Epoch [1/5], Step [500/600], Loss: 0.1265\n",
      "Epoch [1/5], Step [600/600], Loss: 0.1251\n",
      "Epoch [2/5], Step [100/600], Loss: 0.1953\n",
      "Epoch [2/5], Step [200/600], Loss: 0.1491\n",
      "Epoch [2/5], Step [300/600], Loss: 0.0701\n",
      "Epoch [2/5], Step [400/600], Loss: 0.0552\n",
      "Epoch [2/5], Step [500/600], Loss: 0.0999\n",
      "Epoch [2/5], Step [600/600], Loss: 0.1628\n",
      "Epoch [3/5], Step [100/600], Loss: 0.1770\n",
      "Epoch [3/5], Step [200/600], Loss: 0.1790\n",
      "Epoch [3/5], Step [300/600], Loss: 0.1097\n",
      "Epoch [3/5], Step [400/600], Loss: 0.1167\n",
      "Epoch [3/5], Step [500/600], Loss: 0.0101\n",
      "Epoch [3/5], Step [600/600], Loss: 0.0514\n",
      "Epoch [4/5], Step [100/600], Loss: 0.0864\n",
      "Epoch [4/5], Step [200/600], Loss: 0.0967\n",
      "Epoch [4/5], Step [300/600], Loss: 0.0793\n",
      "Epoch [4/5], Step [400/600], Loss: 0.0895\n",
      "Epoch [4/5], Step [500/600], Loss: 0.1764\n",
      "Epoch [4/5], Step [600/600], Loss: 0.0469\n",
      "Epoch [5/5], Step [100/600], Loss: 0.0144\n",
      "Epoch [5/5], Step [200/600], Loss: 0.0210\n",
      "Epoch [5/5], Step [300/600], Loss: 0.0956\n",
      "Epoch [5/5], Step [400/600], Loss: 0.0134\n",
      "Epoch [5/5], Step [500/600], Loss: 0.0038\n",
      "Epoch [5/5], Step [600/600], Loss: 0.0765\n"
     ]
    }
   ],
   "source": [
    "for epoch in range(num_epochs):\n",
    "    for i, (images, labels) in enumerate(train_loader):\n",
    "        images = Variable(images.view(-1, sequence_length, input_size))\n",
    "        labels = Variable(labels)\n",
    "        \n",
    "        # Forward + Backward + Optimize\n",
    "        optimizer.zero_grad()\n",
    "        outputs = rnn(images)\n",
    "        loss = criterion(outputs, labels)\n",
    "        loss.backward()\n",
    "        optimizer.step()\n",
    "        \n",
    "        if (i+1) % 100 == 0:\n",
    "            print ('Epoch [%d/%d], Step [%d/%d], Loss: %.4f' \n",
    "                   %(epoch+1, num_epochs, i+1, len(train_dataset)//batch_size, loss.data[0]))\n"
   ]
  },
  {
   "cell_type": "code",
   "execution_count": 11,
   "metadata": {
    "collapsed": false
   },
   "outputs": [
    {
     "name": "stdout",
     "output_type": "stream",
     "text": [
      "Test Accuracy of the model on the 10000 test images: 98 %\n"
     ]
    }
   ],
   "source": [
    "correct = 0\n",
    "total = 0\n",
    "for images, labels in test_loader:\n",
    "    images = Variable(images.view(-1, sequence_length, input_size))\n",
    "    outputs = rnn(images)\n",
    "    _, predicted = torch.max(outputs.data, 1)\n",
    "    total += labels.size(0)\n",
    "    correct += (predicted == labels).sum()\n",
    "\n",
    "print('Test Accuracy of the model on the 10000 test images: %d %%' % (100 * correct / total)) \n",
    "\n",
    "# Save the Model\n",
    "torch.save(rnn.state_dict(), 'BIrnn.pkl')"
   ]
  },
  {
   "cell_type": "code",
   "execution_count": null,
   "metadata": {
    "collapsed": true
   },
   "outputs": [],
   "source": []
  }
 ],
 "metadata": {
  "kernelspec": {
   "display_name": "Python(torch)",
   "language": "python",
   "name": "torch"
  },
  "language_info": {
   "codemirror_mode": {
    "name": "ipython",
    "version": 3
   },
   "file_extension": ".py",
   "mimetype": "text/x-python",
   "name": "python",
   "nbconvert_exporter": "python",
   "pygments_lexer": "ipython3",
   "version": "3.6.2"
  }
 },
 "nbformat": 4,
 "nbformat_minor": 1
}
