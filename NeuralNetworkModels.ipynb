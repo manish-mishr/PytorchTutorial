{
 "cells": [
  {
   "cell_type": "code",
   "execution_count": 56,
   "metadata": {},
   "outputs": [],
   "source": [
    "import cv2\n",
    "import numpy as np"
   ]
  },
  {
   "cell_type": "code",
   "execution_count": 57,
   "metadata": {},
   "outputs": [],
   "source": [
    "import torch\n",
    "import torch.nn as nn\n",
    "import torchvision.datasets as dsets\n",
    "import torchvision.transforms as transforms\n",
    "from torch.autograd import Variable"
   ]
  },
  {
   "cell_type": "code",
   "execution_count": 58,
   "metadata": {},
   "outputs": [],
   "source": [
    "input_size = 784\n",
    "hidden_size = 500\n",
    "num_classes = 10\n",
    "num_epochs = 5\n",
    "batch_size = 100\n",
    "learning_rate = 0.001"
   ]
  },
  {
   "cell_type": "code",
   "execution_count": 59,
   "metadata": {},
   "outputs": [],
   "source": [
    "train_dataset = dsets.MNIST(root='./data', \n",
    "                            train=True, \n",
    "                            transform=transforms.ToTensor(),\n",
    "                            download=True)\n",
    "\n",
    "test_dataset = dsets.MNIST(root='./data', \n",
    "                           train=False, \n",
    "                           transform=transforms.ToTensor())\n",
    "\n",
    "# Dataset Loader (Input Pipline)\n",
    "train_loader = torch.utils.data.DataLoader(dataset=train_dataset, \n",
    "                                           batch_size=batch_size, \n",
    "                                           shuffle=True)\n",
    "\n",
    "test_loader = torch.utils.data.DataLoader(dataset=test_dataset, \n",
    "                                          batch_size=batch_size, \n",
    "                                          shuffle=False)"
   ]
  },
  {
   "cell_type": "code",
   "execution_count": 60,
   "metadata": {},
   "outputs": [],
   "source": [
    "class Net(nn.Module):\n",
    "    def __init__(self,input_size,hidden_size,num_classes):\n",
    "        super(Net,self).__init__()\n",
    "        self.fc1 = nn.Linear(input_size,hidden_size)\n",
    "        self.relu = nn.ReLU()\n",
    "        self.fc2 = nn.Linear(hidden_size, num_classes)\n",
    "    def forward(self,inp):\n",
    "        out = self.fc1(inp)\n",
    "        out = self.relu(out)\n",
    "        out = self.fc2(out)\n",
    "        return out"
   ]
  },
  {
   "cell_type": "code",
   "execution_count": 61,
   "metadata": {},
   "outputs": [],
   "source": [
    "def train(net):\n",
    "    global num_epochs\n",
    "    for ep in range(num_epochs):\n",
    "        for i,(images,labels) in enumerate(train_loader):\n",
    "            images = Variable(images.view(-1,28*28))\n",
    "            labels = Variable(labels)\n",
    "            optimizer.zero_grad()\n",
    "            outputs = net(images)\n",
    "            loss = criterion(outputs,labels)\n",
    "            loss.backward()\n",
    "            optimizer.step()\n",
    "\n",
    "            if (i+1) % 100 == 0:\n",
    "                print ('Epoch [%d/%d], Step [%d/%d], Loss: %.4f' \n",
    "                       %(ep+1, num_epochs, i+1, len(train_dataset)//batch_size, loss.data[0]))"
   ]
  },
  {
   "cell_type": "code",
   "execution_count": 62,
   "metadata": {},
   "outputs": [],
   "source": [
    "def get_accuracy(net,name):\n",
    "    global test_loader\n",
    "    correct = 0\n",
    "    total = 0\n",
    "    for images, labels in test_loader:\n",
    "        images = Variable(images.view(-1, 28*28))\n",
    "        outputs = net(images)\n",
    "        _, predicted = torch.max(outputs.data, 1)\n",
    "        total += labels.size(0)\n",
    "        correct += (predicted == labels).sum()\n",
    "\n",
    "    print('Accuracy of the network on the 10000 test images: %d %%' % (100 * correct / total))\n",
    "\n",
    "    # Save the Model\n",
    "    torch.save(net.state_dict(), str(name+'model')+'.pkl')\n",
    "\n"
   ]
  },
  {
   "cell_type": "code",
   "execution_count": 63,
   "metadata": {},
   "outputs": [
    {
     "name": "stdout",
     "output_type": "stream",
     "text": [
      "Epoch [1/5], Step [100/600], Loss: 0.4667\n",
      "Epoch [1/5], Step [200/600], Loss: 0.2215\n",
      "Epoch [1/5], Step [300/600], Loss: 0.3113\n",
      "Epoch [1/5], Step [400/600], Loss: 0.2085\n",
      "Epoch [1/5], Step [500/600], Loss: 0.1936\n",
      "Epoch [1/5], Step [600/600], Loss: 0.1374\n",
      "Epoch [2/5], Step [100/600], Loss: 0.0466\n",
      "Epoch [2/5], Step [200/600], Loss: 0.0666\n",
      "Epoch [2/5], Step [300/600], Loss: 0.0800\n",
      "Epoch [2/5], Step [400/600], Loss: 0.1298\n",
      "Epoch [2/5], Step [500/600], Loss: 0.1581\n",
      "Epoch [2/5], Step [600/600], Loss: 0.0638\n",
      "Epoch [3/5], Step [100/600], Loss: 0.0553\n",
      "Epoch [3/5], Step [200/600], Loss: 0.0352\n",
      "Epoch [3/5], Step [300/600], Loss: 0.0955\n",
      "Epoch [3/5], Step [400/600], Loss: 0.0490\n",
      "Epoch [3/5], Step [500/600], Loss: 0.0873\n",
      "Epoch [3/5], Step [600/600], Loss: 0.0490\n",
      "Epoch [4/5], Step [100/600], Loss: 0.0611\n",
      "Epoch [4/5], Step [200/600], Loss: 0.0542\n",
      "Epoch [4/5], Step [300/600], Loss: 0.1475\n",
      "Epoch [4/5], Step [400/600], Loss: 0.0240\n",
      "Epoch [4/5], Step [500/600], Loss: 0.0519\n",
      "Epoch [4/5], Step [600/600], Loss: 0.0383\n",
      "Epoch [5/5], Step [100/600], Loss: 0.0194\n",
      "Epoch [5/5], Step [200/600], Loss: 0.0537\n",
      "Epoch [5/5], Step [300/600], Loss: 0.0304\n",
      "Epoch [5/5], Step [400/600], Loss: 0.0429\n",
      "Epoch [5/5], Step [500/600], Loss: 0.0281\n",
      "Epoch [5/5], Step [600/600], Loss: 0.0748\n"
     ]
    }
   ],
   "source": [
    "net = Net(input_size,hidden_size,num_classes)\n",
    "criterion = nn.CrossEntropyLoss()\n",
    "optimizer = torch.optim.Adam(net.parameters(), lr=learning_rate)\n",
    "train(net)"
   ]
  },
  {
   "cell_type": "code",
   "execution_count": 64,
   "metadata": {},
   "outputs": [
    {
     "name": "stdout",
     "output_type": "stream",
     "text": [
      "Accuracy of the network on the 10000 test images: 97 %\n"
     ]
    }
   ],
   "source": [
    "get_accuracy(net,'feedForward')"
   ]
  },
  {
   "cell_type": "code",
   "execution_count": 70,
   "metadata": {},
   "outputs": [],
   "source": [
    "class CNN(nn.Module):\n",
    "    def __init__(self):\n",
    "        super(CNN,self).__init__()\n",
    "        self.layer1 = nn.Sequential(\n",
    "                nn.Conv2d(1,16,kernel_size=5, padding=2),\n",
    "                nn.BatchNorm2d(16),\n",
    "                nn.ReLU(),\n",
    "                nn.MaxPool2d(2))\n",
    "        self.layer2 = nn.Sequential(\n",
    "                nn.Conv2d(16,32,kernel_size=5, padding=2),\n",
    "                nn.BatchNorm2d(32),\n",
    "                nn.ReLU(),\n",
    "                nn.MaxPool2d(2))\n",
    "        self.fc = nn.Linear(7*7*32,10)\n",
    "    def forward(self,inp):\n",
    "        out = self.layer1(inp)\n",
    "        out = self.layer2(out)\n",
    "        out = out.view(out.size(0), -1)\n",
    "        out = self.fc(out)\n",
    "        return out\n",
    "    \n",
    "    "
   ]
  },
  {
   "cell_type": "code",
   "execution_count": 71,
   "metadata": {},
   "outputs": [],
   "source": [
    "cnn = CNN()\n",
    "criterion = nn.CrossEntropyLoss()\n",
    "optimizer = torch.optim.Adam(cnn.parameters(), lr=learning_rate)\n"
   ]
  },
  {
   "cell_type": "code",
   "execution_count": 76,
   "metadata": {},
   "outputs": [],
   "source": [
    "def cnn_train():\n",
    "    for ep in range(num_epochs):\n",
    "        for i,(images,labels) in enumerate(train_loader):\n",
    "            images = Variable(images)\n",
    "            labels = Variable(labels)\n",
    "            optimizer.zero_grad()\n",
    "            outputs = cnn(images)\n",
    "            loss = criterion(outputs,labels)\n",
    "        \n",
    "            loss.backward()\n",
    "            optimizer.step()\n",
    "            if (i+1) % 100 == 0:\n",
    "                print ('Epoch [%d/%d], Step [%d/%d], Loss: %.4f' \n",
    "                       %(ep+1, num_epochs, i+1, len(train_dataset)//batch_size, loss.data[0]))\n",
    "            "
   ]
  },
  {
   "cell_type": "code",
   "execution_count": 77,
   "metadata": {},
   "outputs": [],
   "source": [
    "def cnn_accuracy():\n",
    "    correct = 0\n",
    "    total = 0\n",
    "    for images, labels in test_loader:\n",
    "        images = Variable(images)\n",
    "        outputs = cnn(images)\n",
    "        _, predicted = torch.max(outputs.data, 1)\n",
    "        total += labels.size(0)\n",
    "        correct += (predicted == labels).sum()\n",
    "\n",
    "    print('Accuracy of the network on the 10000 test images: %d %%' % (100 * correct / total))\n",
    "\n",
    "    # Save the Model\n",
    "    torch.save(cnn.state_dict(), 'cnnModel.pkl')"
   ]
  },
  {
   "cell_type": "code",
   "execution_count": 78,
   "metadata": {},
   "outputs": [
    {
     "name": "stdout",
     "output_type": "stream",
     "text": [
      "Epoch [1/5], Step [100/600], Loss: 0.1274\n",
      "Epoch [1/5], Step [200/600], Loss: 0.1015\n",
      "Epoch [1/5], Step [300/600], Loss: 0.1087\n",
      "Epoch [1/5], Step [400/600], Loss: 0.0526\n",
      "Epoch [1/5], Step [500/600], Loss: 0.1374\n",
      "Epoch [1/5], Step [600/600], Loss: 0.0247\n",
      "Epoch [2/5], Step [100/600], Loss: 0.0293\n",
      "Epoch [2/5], Step [200/600], Loss: 0.0357\n",
      "Epoch [2/5], Step [300/600], Loss: 0.0287\n",
      "Epoch [2/5], Step [400/600], Loss: 0.0392\n",
      "Epoch [2/5], Step [500/600], Loss: 0.0179\n",
      "Epoch [2/5], Step [600/600], Loss: 0.0094\n",
      "Epoch [3/5], Step [100/600], Loss: 0.0522\n",
      "Epoch [3/5], Step [200/600], Loss: 0.0492\n",
      "Epoch [3/5], Step [300/600], Loss: 0.0432\n",
      "Epoch [3/5], Step [400/600], Loss: 0.0188\n",
      "Epoch [3/5], Step [500/600], Loss: 0.0575\n",
      "Epoch [3/5], Step [600/600], Loss: 0.0680\n",
      "Epoch [4/5], Step [100/600], Loss: 0.0392\n",
      "Epoch [4/5], Step [200/600], Loss: 0.0081\n",
      "Epoch [4/5], Step [300/600], Loss: 0.0047\n",
      "Epoch [4/5], Step [400/600], Loss: 0.0504\n",
      "Epoch [4/5], Step [500/600], Loss: 0.0111\n",
      "Epoch [4/5], Step [600/600], Loss: 0.0061\n",
      "Epoch [5/5], Step [100/600], Loss: 0.0101\n",
      "Epoch [5/5], Step [200/600], Loss: 0.0138\n",
      "Epoch [5/5], Step [300/600], Loss: 0.0104\n",
      "Epoch [5/5], Step [400/600], Loss: 0.0315\n",
      "Epoch [5/5], Step [500/600], Loss: 0.0122\n",
      "Epoch [5/5], Step [600/600], Loss: 0.0017\n"
     ]
    }
   ],
   "source": [
    "cnn_train()"
   ]
  },
  {
   "cell_type": "code",
   "execution_count": 79,
   "metadata": {},
   "outputs": [
    {
     "name": "stdout",
     "output_type": "stream",
     "text": [
      "Accuracy of the network on the 10000 test images: 99 %\n"
     ]
    }
   ],
   "source": [
    "cnn_accuracy()"
   ]
  },
  {
   "cell_type": "code",
   "execution_count": 121,
   "metadata": {},
   "outputs": [],
   "source": [
    "transform = transforms.Compose([\n",
    "    transforms.Scale(40),\n",
    "    transforms.RandomHorizontalFlip(),\n",
    "    transforms.RandomCrop(32),\n",
    "    transforms.ToTensor()])"
   ]
  },
  {
   "cell_type": "code",
   "execution_count": 122,
   "metadata": {},
   "outputs": [
    {
     "name": "stdout",
     "output_type": "stream",
     "text": [
      "Files already downloaded and verified\n"
     ]
    }
   ],
   "source": [
    "trainres_dataset = dsets.CIFAR10(root='./data/',\n",
    "                               train=True, \n",
    "                               transform=transform,\n",
    "                               download=True)\n",
    "\n",
    "testres_dataset = dsets.CIFAR10(root='./data/',\n",
    "                              train=False, \n",
    "                              transform=transforms.ToTensor())\n",
    "\n",
    "# Data Loader (Input Pipeline)\n",
    "trainres_loader = torch.utils.data.DataLoader(dataset=trainres_dataset,\n",
    "                                           batch_size=100, \n",
    "                                           shuffle=True)\n",
    "\n",
    "testres_loader = torch.utils.data.DataLoader(dataset=testres_dataset,\n",
    "                                          batch_size=100, \n",
    "                                          shuffle=False)"
   ]
  },
  {
   "cell_type": "code",
   "execution_count": 123,
   "metadata": {},
   "outputs": [],
   "source": [
    "def conv3x3(in_channels, out_channels, stride=1):\n",
    "    return nn.Conv2d(in_channels, out_channels, kernel_size=3, \n",
    "                     stride=stride, padding=1, bias=False)"
   ]
  },
  {
   "cell_type": "code",
   "execution_count": 124,
   "metadata": {},
   "outputs": [],
   "source": [
    "class ResidualBlock(nn.Module):\n",
    "    def __init__(self, in_channels, out_channels, stride=1, downsample=None):\n",
    "        super(ResidualBlock, self).__init__()\n",
    "        self.conv1 = conv3x3(in_channels, out_channels, stride)\n",
    "        self.bn1 = nn.BatchNorm2d(out_channels)\n",
    "        self.relu = nn.ReLU(inplace=True)\n",
    "        self.conv2 = conv3x3(out_channels, out_channels)\n",
    "        self.bn2 = nn.BatchNorm2d(out_channels)\n",
    "        self.downsample = downsample\n",
    "        \n",
    "    def forward(self, x):\n",
    "        residual = x\n",
    "        out = self.conv1(x)\n",
    "        out = self.bn1(out)\n",
    "        out = self.relu(out)\n",
    "        out = self.conv2(out)\n",
    "        out = self.bn2(out)\n",
    "        if self.downsample:\n",
    "            residual = self.downsample(x)\n",
    "        out += residual\n",
    "        out = self.relu(out)\n",
    "        return out\n"
   ]
  },
  {
   "cell_type": "code",
   "execution_count": 125,
   "metadata": {},
   "outputs": [],
   "source": [
    "class ResNet(nn.Module):\n",
    "    def __init__(self, block, layers, num_classes=10):\n",
    "        super(ResNet, self).__init__()\n",
    "        self.in_channels = 16\n",
    "        self.conv = conv3x3(3, 16)\n",
    "        self.bn = nn.BatchNorm2d(16)\n",
    "        self.relu = nn.ReLU(inplace=True)\n",
    "        self.layer1 = self.make_layer(block, 16, layers[0])\n",
    "        self.layer2 = self.make_layer(block, 32, layers[0], 2)\n",
    "        self.layer3 = self.make_layer(block, 64, layers[1], 2)\n",
    "        self.avg_pool = nn.AvgPool2d(8)\n",
    "        self.fc = nn.Linear(64, num_classes)\n",
    "        \n",
    "    def make_layer(self, block, out_channels, blocks, stride=1):\n",
    "        downsample = None\n",
    "        if (stride != 1) or (self.in_channels != out_channels):\n",
    "            downsample = nn.Sequential(\n",
    "                conv3x3(self.in_channels, out_channels, stride=stride),\n",
    "                nn.BatchNorm2d(out_channels))\n",
    "        layers = []\n",
    "        layers.append(block(self.in_channels, out_channels, stride, downsample))\n",
    "        self.in_channels = out_channels\n",
    "        for i in range(1, blocks):\n",
    "            layers.append(block(out_channels, out_channels))\n",
    "        return nn.Sequential(*layers)\n",
    "    \n",
    "    def forward(self, x):\n",
    "        out = self.conv(x)\n",
    "        out = self.bn(out)\n",
    "        out = self.relu(out)\n",
    "        out = self.layer1(out)\n",
    "        out = self.layer2(out)\n",
    "        out = self.layer3(out)\n",
    "        out = self.avg_pool(out)\n",
    "        out = out.view(out.size(0), -1)\n",
    "        out = self.fc(out)\n",
    "        return out\n"
   ]
  },
  {
   "cell_type": "code",
   "execution_count": 126,
   "metadata": {},
   "outputs": [],
   "source": [
    "resnet = ResNet(ResidualBlock, [2,2,2,2])\n",
    "criterion = nn.CrossEntropyLoss()\n",
    "lr = 0.001\n",
    "optimizer = torch.optim.Adam(resnet.parameters(), lr=lr)"
   ]
  },
  {
   "cell_type": "code",
   "execution_count": 127,
   "metadata": {},
   "outputs": [
    {
     "name": "stdout",
     "output_type": "stream",
     "text": [
      "hello\n"
     ]
    }
   ],
   "source": [
    "print \"hello\""
   ]
  },
  {
   "cell_type": "code",
   "execution_count": 130,
   "metadata": {},
   "outputs": [
    {
     "name": "stdout",
     "output_type": "stream",
     "text": [
      "Epoch [1/80], Iter [100/500] Loss: 1.0982\n",
      "Epoch [1/80], Iter [200/500] Loss: 1.2597\n",
      "Epoch [1/80], Iter [300/500] Loss: 0.9493\n",
      "Epoch [1/80], Iter [400/500] Loss: 1.0262\n",
      "Epoch [1/80], Iter [500/500] Loss: 1.0159\n",
      "Epoch [2/80], Iter [100/500] Loss: 1.0057\n",
      "Epoch [2/80], Iter [200/500] Loss: 1.1290\n",
      "Epoch [2/80], Iter [300/500] Loss: 0.8771\n",
      "Epoch [2/80], Iter [400/500] Loss: 0.9684\n",
      "Epoch [2/80], Iter [500/500] Loss: 0.8919\n",
      "Epoch [3/80], Iter [100/500] Loss: 0.9478\n",
      "Epoch [3/80], Iter [200/500] Loss: 0.8078\n",
      "Epoch [3/80], Iter [300/500] Loss: 0.9069\n",
      "Epoch [3/80], Iter [400/500] Loss: 0.7679\n",
      "Epoch [3/80], Iter [500/500] Loss: 0.7568\n",
      "Epoch [4/80], Iter [100/500] Loss: 0.9381\n",
      "Epoch [4/80], Iter [200/500] Loss: 0.7242\n",
      "Epoch [4/80], Iter [300/500] Loss: 0.7873\n",
      "Epoch [4/80], Iter [400/500] Loss: 0.9324\n",
      "Epoch [4/80], Iter [500/500] Loss: 0.5722\n",
      "Epoch [5/80], Iter [100/500] Loss: 0.6943\n",
      "Epoch [5/80], Iter [200/500] Loss: 0.6045\n",
      "Epoch [5/80], Iter [300/500] Loss: 0.6436\n",
      "Epoch [5/80], Iter [400/500] Loss: 0.6110\n",
      "Epoch [5/80], Iter [500/500] Loss: 0.8144\n",
      "Epoch [6/80], Iter [100/500] Loss: 0.7065\n",
      "Epoch [6/80], Iter [200/500] Loss: 0.6803\n",
      "Epoch [6/80], Iter [300/500] Loss: 0.7333\n",
      "Epoch [6/80], Iter [400/500] Loss: 0.6885\n",
      "Epoch [6/80], Iter [500/500] Loss: 0.6656\n",
      "Epoch [7/80], Iter [100/500] Loss: 0.7982\n",
      "Epoch [7/80], Iter [200/500] Loss: 0.7323\n",
      "Epoch [7/80], Iter [300/500] Loss: 0.4568\n",
      "Epoch [7/80], Iter [400/500] Loss: 0.6045\n",
      "Epoch [7/80], Iter [500/500] Loss: 0.7710\n",
      "Epoch [8/80], Iter [100/500] Loss: 0.8390\n",
      "Epoch [8/80], Iter [200/500] Loss: 0.4930\n",
      "Epoch [8/80], Iter [300/500] Loss: 0.5477\n",
      "Epoch [8/80], Iter [400/500] Loss: 0.5461\n",
      "Epoch [8/80], Iter [500/500] Loss: 0.6683\n",
      "Epoch [9/80], Iter [100/500] Loss: 0.5487\n",
      "Epoch [9/80], Iter [200/500] Loss: 0.7891\n",
      "Epoch [9/80], Iter [300/500] Loss: 0.6396\n",
      "Epoch [9/80], Iter [400/500] Loss: 0.5498\n",
      "Epoch [9/80], Iter [500/500] Loss: 0.6441\n",
      "Epoch [10/80], Iter [100/500] Loss: 0.4830\n",
      "Epoch [10/80], Iter [200/500] Loss: 0.5463\n",
      "Epoch [10/80], Iter [300/500] Loss: 0.7448\n",
      "Epoch [10/80], Iter [400/500] Loss: 0.5791\n",
      "Epoch [10/80], Iter [500/500] Loss: 0.4656\n"
     ]
    }
   ],
   "source": [
    "for epoch in range(10):\n",
    "    for i, (images, labels) in enumerate(trainres_loader):\n",
    "        images = Variable(images)\n",
    "        labels = Variable(labels)\n",
    "        # Forward + Backward + Optimize\n",
    "        optimizer.zero_grad()\n",
    "        outputs = resnet(images)\n",
    "        loss = criterion(outputs, labels)\n",
    "        loss.backward()\n",
    "        optimizer.step()\n",
    "        \n",
    "        if (i+1) % 100 == 0:\n",
    "            print (\"Epoch [%d/%d], Iter [%d/%d] Loss: %.4f\" %(epoch+1, 80, i+1, 500, loss.data[0]))\n",
    "\n",
    "    # Decaying Learning Rate\n",
    "    if (epoch+1) % 20 == 0:\n",
    "        lr /= 3\n",
    "        optimizer = torch.optim.Adam(resnet.parameters(), lr=lr) "
   ]
  },
  {
   "cell_type": "code",
   "execution_count": 132,
   "metadata": {},
   "outputs": [
    {
     "name": "stdout",
     "output_type": "stream",
     "text": [
      "Accuracy of the model on the test images: 78 %\n"
     ]
    }
   ],
   "source": [
    "correct = 0\n",
    "total = 0\n",
    "for images, labels in testres_loader:\n",
    "    images = Variable(images)\n",
    "    outputs = resnet(images)\n",
    "    _, predicted = torch.max(outputs.data, 1)\n",
    "    total += labels.size(0)\n",
    "    correct += (predicted == labels).sum()\n",
    "\n",
    "print('Accuracy of the model on the test images: %d %%' % (100 * correct / total))\n",
    "\n",
    "# Save the Model\n",
    "torch.save(resnet.state_dict(), 'resnet.pkl')"
   ]
  },
  {
   "cell_type": "code",
   "execution_count": null,
   "metadata": {},
   "outputs": [],
   "source": []
  }
 ],
 "metadata": {
  "kernelspec": {
   "display_name": "Python 2",
   "language": "python",
   "name": "python2"
  },
  "language_info": {
   "codemirror_mode": {
    "name": "ipython",
    "version": 2
   },
   "file_extension": ".py",
   "mimetype": "text/x-python",
   "name": "python",
   "nbconvert_exporter": "python",
   "pygments_lexer": "ipython2",
   "version": "2.7.12"
  }
 },
 "nbformat": 4,
 "nbformat_minor": 2
}
